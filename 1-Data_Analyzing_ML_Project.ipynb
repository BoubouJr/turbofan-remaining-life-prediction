{
 "cells": [
  {
   "cell_type": "markdown",
   "id": "feb9130e",
   "metadata": {},
   "source": [
    "**AKIRA IS STILL SLEEPING**\n"
   ]
  }
 ],
 "metadata": {
  "kernelspec": {
   "display_name": "my_ml_env",
   "language": "python",
   "name": "python3"
  },
  "language_info": {
   "name": "python",
   "version": "3.9.23"
  }
 },
 "nbformat": 4,
 "nbformat_minor": 5
}
